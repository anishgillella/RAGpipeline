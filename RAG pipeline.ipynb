{
 "cells": [
  {
   "cell_type": "markdown",
   "metadata": {},
   "source": [
    "Different Components of a RAG pipeline\n",
    "- Data Source : Data is tranformed and converted to chunks to be pushed into a vector database\n",
    "\n",
    "- Vector Store\n",
    "- Vector Embeddings"
   ]
  },
  {
   "cell_type": "code",
   "execution_count": 1,
   "metadata": {},
   "outputs": [
    {
     "data": {
      "text/plain": [
       "[Document(page_content='I spoke the other day of the colossal military disaster which occurred when the French High Command failed to withdraw the northern Armies from Belgium at the moment when they knew that the French front was decisively broken at Sedan and on the Meuse. This delay entailed the loss of fifteen or sixteen French divisions and threw out of action for the critical period the whole of the British Expeditionary Force. Our Army and 120,000 French troops were indeed rescued by the British Navy from Dunkirk but only with the loss of their cannon, vehicles and modern equipment. This loss inevitably took some weeks to repair, and in the first two of those weeks the battle in France has been lost. When we consider the heroic resistance made by the French Army against heavy odds in this battle, the enormous losses inflicted upon the enemy and the evident exhaustion of the enemy, it may well be the thought that these 25 divisions of the best-trained and best-equipped troops might have turned the scale. However, General Weygand had to fight without them. Only three British divisions or their equivalent were able to stand in the line with their French comrades. They have suffered severely, but they have fought well. We sent every man we could to France as fast as we could re-equip and transport their formations.\\n\\nI am not reciting these facts for the purpose of recrimination. That I judge to be utterly futile and even harmful. We cannot afford it. I recite them in order to explain why it was we did not have, as we could have had, between twelve and fourteen British divisions fighting in the line in this great battle instead of only three. Now I put all this aside. I put it on the shelf, from which the historians, when they have time, will select their documents to tell their stories. We have to think of the future and not of the past. This also applies in a small way to our own affairs at home. There are many who would hold an inquest in the House of Commons on the conduct of the Governments â€” and of Parliaments, for they are in it, too â€” during the years which led up to this catastrophe. They seek to indict those who were responsible for the guidance of our affairs. This also would be a foolish and pernicious process. There are too many in it. Let each man search his conscience and search his speeches. I frequently search mine.\\n\\nOf this I am quite sure, that if we open a quarrel between the past and the present, we shall find that we have lost the future. Therefore, I cannot accept the drawing of any distinctions between members of the present Government. It was formed at a moment of crisis in order to unite all the Parties and all sections of opinion. It has received the almost unanimous support of both Houses of Parliament. Its members are going to stand together, and, subject to the authority of the House of Commons, we are going to govern the country and fight the war. It is absolutely necessary at a time like this that every Minister who tries each day to do his duty shall be respected; and their subordinates must know that their chiefs are not threatened men, men who are here today and gone tomorrow, but that their directions must be punctually and faithfully obeyed. Without this concentrated power we cannot face what lies before us. I should not think it would be very advantageous for the House to prolong this debate this afternoon under conditions of public stress. Many facts are not clear that will be clear in a short time. We are to have a secret session on Thursday, and I should think that would be a better opportunity for the many earnest expressions of opinion which members will desire to make and for the House to discuss vital matters without having everything read the next morning by our dangerous foes.\\n\\n', metadata={'source': 'speech.txt'})]"
      ]
     },
     "execution_count": 1,
     "metadata": {},
     "output_type": "execute_result"
    }
   ],
   "source": [
    "## Data Ingestion\n",
    "from langchain_community.document_loaders import  TextLoader\n",
    "loader = TextLoader(\"speech.txt\")\n",
    "text_documents = loader.load()\n",
    "text_documents"
   ]
  },
  {
   "cell_type": "code",
   "execution_count": 2,
   "metadata": {},
   "outputs": [
    {
     "data": {
      "text/plain": [
       "False"
      ]
     },
     "execution_count": 2,
     "metadata": {},
     "output_type": "execute_result"
    }
   ],
   "source": [
    "import os\n",
    "from dotenv import load_dotenv\n",
    "load_dotenv()\n",
    "os.environ[\"OPENAI_API_KEY\"] = os.getenv(\"OPENAI_API_KEY\")"
   ]
  },
  {
   "cell_type": "code",
   "execution_count": null,
   "metadata": {},
   "outputs": [],
   "source": []
  }
 ],
 "metadata": {
  "kernelspec": {
   "display_name": "Python 3",
   "language": "python",
   "name": "python3"
  },
  "language_info": {
   "codemirror_mode": {
    "name": "ipython",
    "version": 3
   },
   "file_extension": ".py",
   "mimetype": "text/x-python",
   "name": "python",
   "nbconvert_exporter": "python",
   "pygments_lexer": "ipython3",
   "version": "3.11.4"
  }
 },
 "nbformat": 4,
 "nbformat_minor": 2
}
